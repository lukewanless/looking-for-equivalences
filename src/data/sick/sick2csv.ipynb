{
 "cells": [
  {
   "cell_type": "code",
   "execution_count": null,
   "metadata": {},
   "outputs": [],
   "source": [
    "# transform data into csv for ie test"
   ]
  },
  {
   "cell_type": "code",
   "execution_count": 3,
   "metadata": {},
   "outputs": [],
   "source": [
    "import pandas as pd\n",
    "from sklearn.model_selection import train_test_split"
   ]
  },
  {
   "cell_type": "code",
   "execution_count": 4,
   "metadata": {},
   "outputs": [],
   "source": [
    "data_path = \"./SICK_trial_and_train.txt\""
   ]
  },
  {
   "cell_type": "code",
   "execution_count": 6,
   "metadata": {},
   "outputs": [],
   "source": [
    "def sick2csv(path):\n",
    "    data = []\n",
    "    with open(data_path, \"r\") as f:\n",
    "        next(f)\n",
    "        for line in f.readlines():\n",
    "            a = line.split(\"\\t\")\n",
    "            ph = a[1].split(\" [SEP] \")\n",
    "            p = ph[0]\n",
    "            h = ph[1]\n",
    "            l = a[2][0]\n",
    "            l = l.replace('0', 'entailment')\n",
    "            l = l.replace('1', 'contradiction')\n",
    "            l = l.replace('2', 'neutral')\n",
    "            data.append((p, h, l))\n",
    "        data = data[1:]\n",
    "        columns = (\"premise\", \"hypothesis\", \"label\")\n",
    "    return pd.DataFrame(data, columns=columns)"
   ]
  },
  {
   "cell_type": "code",
   "execution_count": 7,
   "metadata": {},
   "outputs": [],
   "source": [
    "df_data = sick2csv(data_path)\n",
    "# df_data.to_csv(\"./train.csv\", index=False)"
   ]
  },
  {
   "cell_type": "code",
   "execution_count": null,
   "metadata": {},
   "outputs": [],
   "source": []
  },
  {
   "cell_type": "code",
   "execution_count": 8,
   "metadata": {},
   "outputs": [],
   "source": [
    "# split data\n",
    "train, test = train_test_split(df_data, random_state=2018, test_size=0.1, shuffle= True)"
   ]
  },
  {
   "cell_type": "code",
   "execution_count": 11,
   "metadata": {},
   "outputs": [],
   "source": [
    "train.to_csv(\"./train.csv\", index=False)\n",
    "test.to_csv(\"./test.csv\", index=False)"
   ]
  },
  {
   "cell_type": "code",
   "execution_count": 10,
   "metadata": {},
   "outputs": [
    {
     "data": {
      "text/html": [
       "<div>\n",
       "<style scoped>\n",
       "    .dataframe tbody tr th:only-of-type {\n",
       "        vertical-align: middle;\n",
       "    }\n",
       "\n",
       "    .dataframe tbody tr th {\n",
       "        vertical-align: top;\n",
       "    }\n",
       "\n",
       "    .dataframe thead th {\n",
       "        text-align: right;\n",
       "    }\n",
       "</style>\n",
       "<table border=\"1\" class=\"dataframe\">\n",
       "  <thead>\n",
       "    <tr style=\"text-align: right;\">\n",
       "      <th></th>\n",
       "      <th>premise</th>\n",
       "      <th>hypothesis</th>\n",
       "      <th>label</th>\n",
       "    </tr>\n",
       "  </thead>\n",
       "  <tbody>\n",
       "    <tr>\n",
       "      <th>3158</th>\n",
       "      <td>A girl is skateboarding on a half pipe.</td>\n",
       "      <td>A skateboarder is doing tricks on a half pipe.</td>\n",
       "      <td>neutral</td>\n",
       "    </tr>\n",
       "    <tr>\n",
       "      <th>2979</th>\n",
       "      <td>A man is playing guitar.</td>\n",
       "      <td>A woman is playing the drums.</td>\n",
       "      <td>neutral</td>\n",
       "    </tr>\n",
       "    <tr>\n",
       "      <th>2323</th>\n",
       "      <td>The log is lying on the panda bear.</td>\n",
       "      <td>The panda bear is lying on the logs.</td>\n",
       "      <td>contradiction</td>\n",
       "    </tr>\n",
       "    <tr>\n",
       "      <th>4937</th>\n",
       "      <td>A large dog and a small dog are standing next ...</td>\n",
       "      <td>A smiling boy in winter clothes is waving his ...</td>\n",
       "      <td>neutral</td>\n",
       "    </tr>\n",
       "    <tr>\n",
       "      <th>673</th>\n",
       "      <td>Some people are walking.</td>\n",
       "      <td>A group of scouts are camping in the grass.</td>\n",
       "      <td>neutral</td>\n",
       "    </tr>\n",
       "    <tr>\n",
       "      <th>...</th>\n",
       "      <td>...</td>\n",
       "      <td>...</td>\n",
       "      <td>...</td>\n",
       "    </tr>\n",
       "    <tr>\n",
       "      <th>1024</th>\n",
       "      <td>A man is speaking on a podium.</td>\n",
       "      <td>A podium is where a man is speaking.</td>\n",
       "      <td>entailment</td>\n",
       "    </tr>\n",
       "    <tr>\n",
       "      <th>2423</th>\n",
       "      <td>A woman is picking a can.</td>\n",
       "      <td>There is no woman slicing a tomato.</td>\n",
       "      <td>neutral</td>\n",
       "    </tr>\n",
       "    <tr>\n",
       "      <th>3367</th>\n",
       "      <td>The white dog wearing reindeer ears is close t...</td>\n",
       "      <td>The white dog wearing reindeer ears is near a ...</td>\n",
       "      <td>entailment</td>\n",
       "    </tr>\n",
       "    <tr>\n",
       "      <th>2634</th>\n",
       "      <td>A dog is being teased by a monkey at the zoo.</td>\n",
       "      <td>A monkey is pulling a dog's tail.</td>\n",
       "      <td>neutral</td>\n",
       "    </tr>\n",
       "    <tr>\n",
       "      <th>2372</th>\n",
       "      <td>Two people are talking.</td>\n",
       "      <td>Two men are playing guitar.</td>\n",
       "      <td>neutral</td>\n",
       "    </tr>\n",
       "  </tbody>\n",
       "</table>\n",
       "<p>500 rows × 3 columns</p>\n",
       "</div>"
      ],
      "text/plain": [
       "                                                premise  \\\n",
       "3158            A girl is skateboarding on a half pipe.   \n",
       "2979                           A man is playing guitar.   \n",
       "2323                The log is lying on the panda bear.   \n",
       "4937  A large dog and a small dog are standing next ...   \n",
       "673                            Some people are walking.   \n",
       "...                                                 ...   \n",
       "1024                     A man is speaking on a podium.   \n",
       "2423                          A woman is picking a can.   \n",
       "3367  The white dog wearing reindeer ears is close t...   \n",
       "2634      A dog is being teased by a monkey at the zoo.   \n",
       "2372                            Two people are talking.   \n",
       "\n",
       "                                             hypothesis          label  \n",
       "3158     A skateboarder is doing tricks on a half pipe.        neutral  \n",
       "2979                      A woman is playing the drums.        neutral  \n",
       "2323               The panda bear is lying on the logs.  contradiction  \n",
       "4937  A smiling boy in winter clothes is waving his ...        neutral  \n",
       "673         A group of scouts are camping in the grass.        neutral  \n",
       "...                                                 ...            ...  \n",
       "1024               A podium is where a man is speaking.     entailment  \n",
       "2423                There is no woman slicing a tomato.        neutral  \n",
       "3367  The white dog wearing reindeer ears is near a ...     entailment  \n",
       "2634                  A monkey is pulling a dog's tail.        neutral  \n",
       "2372                        Two men are playing guitar.        neutral  \n",
       "\n",
       "[500 rows x 3 columns]"
      ]
     },
     "execution_count": 10,
     "metadata": {},
     "output_type": "execute_result"
    }
   ],
   "source": [
    "test"
   ]
  },
  {
   "cell_type": "code",
   "execution_count": null,
   "metadata": {},
   "outputs": [],
   "source": []
  },
  {
   "cell_type": "code",
   "execution_count": null,
   "metadata": {},
   "outputs": [],
   "source": []
  },
  {
   "cell_type": "code",
   "execution_count": null,
   "metadata": {},
   "outputs": [],
   "source": []
  },
  {
   "cell_type": "code",
   "execution_count": null,
   "metadata": {},
   "outputs": [],
   "source": []
  },
  {
   "cell_type": "code",
   "execution_count": null,
   "metadata": {},
   "outputs": [],
   "source": [
    "# check if transformation worked"
   ]
  },
  {
   "cell_type": "code",
   "execution_count": 6,
   "metadata": {},
   "outputs": [],
   "source": [
    "columns = [\"premise\", \"hypothesis\", \"label\"]"
   ]
  },
  {
   "cell_type": "code",
   "execution_count": 5,
   "metadata": {},
   "outputs": [],
   "source": [
    "df_train = pd.read_csv('./train_clean.csv')"
   ]
  },
  {
   "cell_type": "code",
   "execution_count": 65,
   "metadata": {},
   "outputs": [],
   "source": [
    "def clean_trans(df):\n",
    "    for index, row in df.iterrows():\n",
    "        row['hypothesis'] = row['hypothesis'].strip()\n",
    "    return df"
   ]
  },
  {
   "cell_type": "code",
   "execution_count": 83,
   "metadata": {},
   "outputs": [],
   "source": [
    "df_train_rho20_0 = clean_trans(df_train_rho20_0)"
   ]
  },
  {
   "cell_type": "code",
   "execution_count": null,
   "metadata": {},
   "outputs": [],
   "source": []
  },
  {
   "cell_type": "code",
   "execution_count": 57,
   "metadata": {},
   "outputs": [],
   "source": [
    "df_train_rho20_0 = pd.read_csv('./rho20/train_rho20-0.csv')"
   ]
  },
  {
   "cell_type": "code",
   "execution_count": 58,
   "metadata": {},
   "outputs": [],
   "source": [
    "df_train_rho20_0 = df_train_rho20_0[columns]"
   ]
  },
  {
   "cell_type": "code",
   "execution_count": 80,
   "metadata": {},
   "outputs": [],
   "source": [
    "pi = []\n",
    "hi = []\n",
    "ps = []\n",
    "hs = []\n",
    "\n",
    "for i in range(len(df_train)):\n",
    "    p_base = df_train.iloc[i]['premise']\n",
    "    h_base = df_train.iloc[i]['hypothesis']\n",
    "    p_trans = df_train_rho20_0.iloc[i]['premise']\n",
    "    h_trans = df_train_rho20_0.iloc[i]['hypothesis']\n",
    "    if p_base != p_trans:\n",
    "        pi.append(i)\n",
    "        ps.append((p_base, p_trans))\n",
    "    \n",
    "    if h_base != h_trans:\n",
    "        hi.append(i)\n",
    "        hs.append((h_base, h_trans))"
   ]
  },
  {
   "cell_type": "code",
   "execution_count": null,
   "metadata": {},
   "outputs": [],
   "source": []
  },
  {
   "cell_type": "code",
   "execution_count": null,
   "metadata": {},
   "outputs": [],
   "source": []
  },
  {
   "cell_type": "code",
   "execution_count": null,
   "metadata": {},
   "outputs": [],
   "source": []
  },
  {
   "cell_type": "code",
   "execution_count": null,
   "metadata": {},
   "outputs": [],
   "source": []
  },
  {
   "cell_type": "code",
   "execution_count": null,
   "metadata": {},
   "outputs": [],
   "source": []
  },
  {
   "cell_type": "code",
   "execution_count": null,
   "metadata": {},
   "outputs": [],
   "source": [
    "# Convert to hy-nli sick data original format"
   ]
  },
  {
   "cell_type": "code",
   "execution_count": 7,
   "metadata": {},
   "outputs": [
    {
     "data": {
      "text/html": [
       "<div>\n",
       "<style scoped>\n",
       "    .dataframe tbody tr th:only-of-type {\n",
       "        vertical-align: middle;\n",
       "    }\n",
       "\n",
       "    .dataframe tbody tr th {\n",
       "        vertical-align: top;\n",
       "    }\n",
       "\n",
       "    .dataframe thead th {\n",
       "        text-align: right;\n",
       "    }\n",
       "</style>\n",
       "<table border=\"1\" class=\"dataframe\">\n",
       "  <thead>\n",
       "    <tr style=\"text-align: right;\">\n",
       "      <th></th>\n",
       "      <th>premise</th>\n",
       "      <th>hypothesis</th>\n",
       "      <th>label</th>\n",
       "    </tr>\n",
       "  </thead>\n",
       "  <tbody>\n",
       "    <tr>\n",
       "      <th>0</th>\n",
       "      <td>men are sawing logs</td>\n",
       "      <td>men are cutting wood</td>\n",
       "      <td>entailment</td>\n",
       "    </tr>\n",
       "    <tr>\n",
       "      <th>1</th>\n",
       "      <td>a man is passionately playing a guitar</td>\n",
       "      <td>a person is singing and playing a guitar</td>\n",
       "      <td>neutral</td>\n",
       "    </tr>\n",
       "    <tr>\n",
       "      <th>2</th>\n",
       "      <td>a man with no shirt is jumping over a log</td>\n",
       "      <td>a guy is leaping into the air in a wooded area</td>\n",
       "      <td>neutral</td>\n",
       "    </tr>\n",
       "    <tr>\n",
       "      <th>3</th>\n",
       "      <td>there is no one sitting in lawn chairs and rea...</td>\n",
       "      <td>two people in two chairs are reading</td>\n",
       "      <td>neutral</td>\n",
       "    </tr>\n",
       "    <tr>\n",
       "      <th>4</th>\n",
       "      <td>a man is cutting a potato</td>\n",
       "      <td>a man is cutting a tomato</td>\n",
       "      <td>neutral</td>\n",
       "    </tr>\n",
       "    <tr>\n",
       "      <th>...</th>\n",
       "      <td>...</td>\n",
       "      <td>...</td>\n",
       "      <td>...</td>\n",
       "    </tr>\n",
       "    <tr>\n",
       "      <th>4494</th>\n",
       "      <td>a cat is playing a piano</td>\n",
       "      <td>a cat is sitting on a piano</td>\n",
       "      <td>neutral</td>\n",
       "    </tr>\n",
       "    <tr>\n",
       "      <th>4495</th>\n",
       "      <td>two toddlers are eating corndogs in a wagon wh...</td>\n",
       "      <td>two young kids are eating corndogs</td>\n",
       "      <td>entailment</td>\n",
       "    </tr>\n",
       "    <tr>\n",
       "      <th>4496</th>\n",
       "      <td>some sticky goo is being pulled out of a bowl ...</td>\n",
       "      <td>a woman is pulling some sticky goo out of a bowl</td>\n",
       "      <td>entailment</td>\n",
       "    </tr>\n",
       "    <tr>\n",
       "      <th>4497</th>\n",
       "      <td>a woman is cutting potatoes</td>\n",
       "      <td>a woman is slicing potatoes</td>\n",
       "      <td>entailment</td>\n",
       "    </tr>\n",
       "    <tr>\n",
       "      <th>4498</th>\n",
       "      <td>one woman is practicing with a flute</td>\n",
       "      <td>one woman is playing a flute</td>\n",
       "      <td>entailment</td>\n",
       "    </tr>\n",
       "  </tbody>\n",
       "</table>\n",
       "<p>4499 rows × 3 columns</p>\n",
       "</div>"
      ],
      "text/plain": [
       "                                                premise  \\\n",
       "0                                   men are sawing logs   \n",
       "1                a man is passionately playing a guitar   \n",
       "2             a man with no shirt is jumping over a log   \n",
       "3     there is no one sitting in lawn chairs and rea...   \n",
       "4                             a man is cutting a potato   \n",
       "...                                                 ...   \n",
       "4494                           a cat is playing a piano   \n",
       "4495  two toddlers are eating corndogs in a wagon wh...   \n",
       "4496  some sticky goo is being pulled out of a bowl ...   \n",
       "4497                        a woman is cutting potatoes   \n",
       "4498               one woman is practicing with a flute   \n",
       "\n",
       "                                            hypothesis       label  \n",
       "0                                 men are cutting wood  entailment  \n",
       "1             a person is singing and playing a guitar     neutral  \n",
       "2       a guy is leaping into the air in a wooded area     neutral  \n",
       "3                 two people in two chairs are reading     neutral  \n",
       "4                            a man is cutting a tomato     neutral  \n",
       "...                                                ...         ...  \n",
       "4494                       a cat is sitting on a piano     neutral  \n",
       "4495                two young kids are eating corndogs  entailment  \n",
       "4496  a woman is pulling some sticky goo out of a bowl  entailment  \n",
       "4497                       a woman is slicing potatoes  entailment  \n",
       "4498                      one woman is playing a flute  entailment  \n",
       "\n",
       "[4499 rows x 3 columns]"
      ]
     },
     "execution_count": 7,
     "metadata": {},
     "output_type": "execute_result"
    }
   ],
   "source": [
    "df_train"
   ]
  },
  {
   "cell_type": "code",
   "execution_count": null,
   "metadata": {},
   "outputs": [],
   "source": [
    "# cols = ['pair_ID', 'sentence_AB', 'E_judgment']"
   ]
  },
  {
   "cell_type": "code",
   "execution_count": 8,
   "metadata": {},
   "outputs": [],
   "source": [
    "output_path = './rho0/train_rho0-0-final.csv'"
   ]
  },
  {
   "cell_type": "code",
   "execution_count": 13,
   "metadata": {},
   "outputs": [],
   "source": [
    "def csv2sick(df, output_path):\n",
    "    sep = '[SEP]'\n",
    "    tab = '\\t'\n",
    "    with open(output_path, \"w\") as f:\n",
    "\n",
    "        heading = 'pair_ID' + tab + 'sentence_AB' + tab + 'E_judgment'\n",
    "        f.write(heading)\n",
    "\n",
    "        for index, row in df.iterrows():\n",
    "            p = row['premise']\n",
    "            h = row['hypothesis']\n",
    "            l = row['label']\n",
    "\n",
    "            l = l.replace('entailment', '0')\n",
    "            l = l.replace('contradiction', '1')\n",
    "            l = l.replace('neutral', '2')\n",
    "\n",
    "            sentence_ab = p + ' ' + sep + ' ' + h\n",
    "            line = '\\n' + str(index) + tab + sentence_ab + tab + l\n",
    "            f.write(line)\n"
   ]
  },
  {
   "cell_type": "code",
   "execution_count": 14,
   "metadata": {},
   "outputs": [],
   "source": [
    "rho_base = 'rho'\n",
    "csv_ext = '.csv'\n",
    "\n",
    "for r in range(0,120,20):\n",
    "    for i in range(5):\n",
    "        rho = rho_base + str(r)\n",
    "        path_base = './' + rho + '/' + 'train_' + rho + '-' + str(i)\n",
    "        input_path = path_base + csv_ext\n",
    "        output_path = path_base + '-final' + csv_ext\n",
    "        df = pd.read_csv(input_path)\n",
    "        csv2sick(df, output_path)    "
   ]
  },
  {
   "cell_type": "code",
   "execution_count": null,
   "metadata": {},
   "outputs": [],
   "source": []
  },
  {
   "cell_type": "code",
   "execution_count": null,
   "metadata": {},
   "outputs": [],
   "source": []
  },
  {
   "cell_type": "code",
   "execution_count": null,
   "metadata": {},
   "outputs": [],
   "source": []
  }
 ],
 "metadata": {
  "kernelspec": {
   "display_name": "Python 3",
   "language": "python",
   "name": "python3"
  },
  "language_info": {
   "codemirror_mode": {
    "name": "ipython",
    "version": 3
   },
   "file_extension": ".py",
   "mimetype": "text/x-python",
   "name": "python",
   "nbconvert_exporter": "python",
   "pygments_lexer": "ipython3",
   "version": "3.8.3"
  }
 },
 "nbformat": 4,
 "nbformat_minor": 4
}
